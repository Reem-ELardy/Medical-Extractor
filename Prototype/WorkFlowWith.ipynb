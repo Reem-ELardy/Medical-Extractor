{
 "cells": [
  {
   "cell_type": "code",
   "execution_count": null,
   "metadata": {},
   "outputs": [
    {
     "name": "stderr",
     "output_type": "stream",
     "text": [
      "Neither CUDA nor MPS are available - defaulting to CPU. Note: This module is much faster with a GPU.\n"
     ]
    }
   ],
   "source": [
    "# WorkFlowWith.ipynb\n",
    "\n",
    "import easyocr\n",
    "\n",
    "# Initialize EasyOCR reader\n",
    "reader = easyocr.Reader(['en'])\n",
    "\n",
    "def perform_ocr(image_path):\n",
    "    \"\"\"Performs OCR on the given image and returns extracted text.\"\"\"\n",
    "    results = reader.readtext(image_path)\n",
    "    extracted_text = \" \".join([detection[1] for detection in results])\n",
    "    return extracted_text\n"
   ]
  },
  {
   "cell_type": "code",
   "execution_count": 9,
   "metadata": {},
   "outputs": [],
   "source": [
    "import subprocess\n",
    "import json\n",
    "\n",
    "def query_llama(prompt):\n",
    "    \"\"\"Sends a prompt to the LLaMA model and returns the response.\"\"\"\n",
    "    try:\n",
    "        result = subprocess.run(\n",
    "            [\"ollama\", \"run\", \"llama3.1\"], \n",
    "            input=prompt,\n",
    "            text=True,\n",
    "            encoding=\"utf-8\",\n",
    "            capture_output=True,\n",
    "            check=True,\n",
    "        )\n",
    "        return result.stdout.strip()\n",
    "    except subprocess.CalledProcessError as e:\n",
    "        print(\"Error interacting with Ollama server:\", e.stderr)\n",
    "        return None\n",
    "\n",
    "def perform_llm(extracted_text):\n",
    "    \"\"\"Prepares the prompt and retrieves structured output from the LLaMA model.\"\"\"\n",
    "    prompt = f\"\"\"\n",
    "    You are an advanced medical assistant. Validate and transform the following unstructured medical text into a structured JSON format with these sections:\n",
    "    1. Patient Information\n",
    "    2. Date of Issue\n",
    "    3. Type of Report (Heart, Brain, Skin, Bones, etc.)\n",
    "    4. Medical Problem (technical terms for doctors)\n",
    "    5. Simplified Explanation of the Medical Problem (for non-experts)\n",
    "\n",
    "    Unstructured Medical Text:\n",
    "    {extracted_text}\n",
    "\n",
    "    Output only the following JSON:\n",
    "    {{\n",
    "        \"Patient Information\": \"string\",\n",
    "        \"Date of Issue\": \"string\",\n",
    "        \"Type of Report\": \"string\",\n",
    "        \"Medical Problem\": \"string\",\n",
    "        \"Simplified Explanation\": \"string\"\n",
    "    }}\n",
    "    \"\"\"\n",
    "\n",
    "    response = query_llama(prompt)\n",
    "    return response\n"
   ]
  },
  {
   "cell_type": "code",
   "execution_count": 7,
   "metadata": {},
   "outputs": [],
   "source": [
    "# Function to save the structured output as a JSON file\n",
    "def save_json_to_file(data, filename=\"output.json\"):\n",
    "    with open(filename, \"w\", encoding=\"utf-8\") as json_file:\n",
    "        json.dump(data, json_file, ensure_ascii=False, indent=4)\n",
    "        print(f\"JSON saved to {filename}\")"
   ]
  },
  {
   "cell_type": "code",
   "execution_count": 5,
   "metadata": {},
   "outputs": [],
   "source": [
    "import re\n",
    "\n",
    "def extract_json(response):\n",
    "    \"\"\"Extracts JSON part from the response.\"\"\"\n",
    "    # Regular expression to match valid JSON block\n",
    "    json_match = re.search(r'\\{.*\\}', response, re.DOTALL)\n",
    "    \n",
    "    if json_match:\n",
    "        try:\n",
    "            # Parse the matched JSON string\n",
    "            structured_output = json.loads(json_match.group(0))\n",
    "            save_json_to_file(structured_output)\n",
    "            return structured_output\n",
    "        except json.JSONDecodeError as e:\n",
    "            print(f\"Error decoding JSON: {e}\")\n",
    "            return None\n",
    "    else:\n",
    "        print(\"No valid JSON found in the response.\")\n",
    "        return None"
   ]
  }
 ],
 "metadata": {
  "kernelspec": {
   "display_name": "medical-venv",
   "language": "python",
   "name": "python3"
  },
  "language_info": {
   "codemirror_mode": {
    "name": "ipython",
    "version": 3
   },
   "file_extension": ".py",
   "mimetype": "text/x-python",
   "name": "python",
   "nbconvert_exporter": "python",
   "pygments_lexer": "ipython3",
   "version": "3.12.0"
  }
 },
 "nbformat": 4,
 "nbformat_minor": 2
}
